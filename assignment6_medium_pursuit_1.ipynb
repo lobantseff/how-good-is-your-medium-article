{
 "cells": [
  {
   "cell_type": "markdown",
   "metadata": {},
   "source": [
    "## Assignment #6. Beating baselines in \"How good is your Medium article?\"\n",
    "[Competition](https://www.kaggle.com/c/how-good-is-your-medium-article)\n",
    "Baseline achieved: **1.42869**\n",
    "___\n",
    "### Pursuit#1\n",
    "\n",
    "\n"
   ]
  },
  {
   "cell_type": "code",
   "execution_count": 1,
   "metadata": {},
   "outputs": [],
   "source": [
    "import os\n",
    "import json\n",
    "from tqdm import tqdm_notebook\n",
    "import numpy as np\n",
    "import pandas as pd\n",
    "from sklearn.feature_extraction.text import TfidfVectorizer\n",
    "from sklearn.metrics import mean_absolute_error\n",
    "from scipy.sparse import csr_matrix, hstack\n",
    "from sklearn.linear_model import Ridge\n",
    "import matplotlib.pyplot as plt"
   ]
  },
  {
   "cell_type": "markdown",
   "metadata": {},
   "source": [
    "# Feature engineering\n",
    "___"
   ]
  },
  {
   "cell_type": "markdown",
   "metadata": {},
   "source": [
    "The following code will help to throw away all HTML tags from an article content."
   ]
  },
  {
   "cell_type": "code",
   "execution_count": 2,
   "metadata": {},
   "outputs": [],
   "source": [
    "from html.parser import HTMLParser\n",
    "\n",
    "class MLStripper(HTMLParser):\n",
    "    def __init__(self):\n",
    "        self.reset()\n",
    "        self.strict = False\n",
    "        self.convert_charrefs= True\n",
    "        self.fed = []\n",
    "    def handle_data(self, d):\n",
    "        self.fed.append(d)\n",
    "    def get_data(self):\n",
    "        return ''.join(self.fed)\n",
    "\n",
    "def strip_tags(html):\n",
    "    s = MLStripper()\n",
    "    s.feed(html)\n",
    "    return s.get_data()"
   ]
  },
  {
   "cell_type": "markdown",
   "metadata": {},
   "source": [
    "Supplementary function to read a JSON line without crashing on escape characters."
   ]
  },
  {
   "cell_type": "code",
   "execution_count": 3,
   "metadata": {},
   "outputs": [],
   "source": [
    "def read_json_line(line=None):\n",
    "    result = None\n",
    "    try:        \n",
    "        result = json.loads(line)\n",
    "    except Exception as e:      \n",
    "        # Find the offending character index:\n",
    "        idx_to_replace = int(str(e).split(' ')[-1].replace(')',''))      \n",
    "        # Remove the offending character:\n",
    "        new_line = list(line)\n",
    "        new_line[idx_to_replace] = ' '\n",
    "        new_line = ''.join(new_line)     \n",
    "        return read_json_line(line=new_line)\n",
    "    return result"
   ]
  },
  {
   "cell_type": "markdown",
   "metadata": {},
   "source": [
    "Extract features `content`, `published`, `title` and `author`, write them to separate files for train and test sets."
   ]
  },
  {
   "cell_type": "code",
   "execution_count": 4,
   "metadata": {},
   "outputs": [],
   "source": [
    "def extract_features_and_write(path_to_data,\n",
    "                               inp_filename, is_train=True):\n",
    "    \n",
    "    features = ['content', 'published', 'title', 'author']\n",
    "    prefix = 'train' if is_train else 'test'\n",
    "    feature_files = [open(os.path.join(path_to_data, 'generated',\n",
    "                                       '{}_{}.txt'.format(prefix, feat)),\n",
    "                          'w', encoding='utf-8')\n",
    "                     for feat in features]\n",
    "    \n",
    "    with open(os.path.join(path_to_data, inp_filename), \n",
    "              encoding='utf-8') as inp_json_file:\n",
    "\n",
    "        for line in tqdm_notebook(inp_json_file):\n",
    "            json_data = read_json_line(line)\n",
    "\n",
    "            for key, file in zip(features, feature_files):\n",
    "                if key == 'content':\n",
    "                    file.write(strip_tags(\n",
    "                        json_data[key].replace('\\n', ' ').replace('\\r', ' '))+'\\n')\n",
    "                elif key == 'published':\n",
    "                    file.write(list(json_data[key].values())[0]+'\\n')\n",
    "                elif key == 'author':\n",
    "                    file.write(json_data[key]['url'] + '\\n')\n",
    "                elif key == 'title':\n",
    "                    file.write(\n",
    "                        json_data[key].replace('\\n', ' ').replace('\\r', ' ')+'\\n')\n",
    "                else:\n",
    "                    file.write(json_data[key]+'\\n')\n",
    "\n",
    "        map(lambda file: file.close(), feature_files)\n",
    "        "
   ]
  },
  {
   "cell_type": "code",
   "execution_count": 5,
   "metadata": {},
   "outputs": [],
   "source": [
    "with open('data/train.json') as f:\n",
    "    for i in range(3):\n",
    "        jsond = read_json_line(f.readline())"
   ]
  },
  {
   "cell_type": "code",
   "execution_count": 6,
   "metadata": {},
   "outputs": [
    {
     "data": {
      "text/plain": [
       "{'_id': 'https://medium.com/@aelcenganda/%E9%96%A9%E6%9D%B1%E6%AD%B7%E5%8F%B2%E7%94%B0%E9%87%8E%E9%9A%A8%E7%AD%86-46851b6cfaa',\n",
       " '_timestamp': 1519335838.5826209,\n",
       " '_spider': 'medium',\n",
       " 'url': 'https://medium.com/@aelcenganda/%E9%96%A9%E6%9D%B1%E6%AD%B7%E5%8F%B2%E7%94%B0%E9%87%8E%E9%9A%A8%E7%AD%86-46851b6cfaa',\n",
       " 'domain': 'medium.com',\n",
       " 'published': {'$date': '2017-02-05T13:08:17.410Z'},\n",
       " 'title': '走入山與海之間：閩東大刀會和兩岸走私 – Yun-Chen Chien（簡韻真） – Medium',\n",
       " 'content': '<div><header class=\"container u-maxWidth740\"><div class=\"uiScale uiScale-ui--regular uiScale-caption--regular postMetaHeader u-paddingBottom10 row\"><div class=\"col u-size12of12 js-postMetaLockup\"><div class=\"uiScale uiScale-ui--regular uiScale-caption--regular postMetaLockup postMetaLockup--authorWithBio u-flexCenter js-postMetaLockup\"><div class=\"u-flex0\"><a class=\"link u-baseColor--link avatar\" href=\"https://medium.com/@aelcenganda?source=post_header_lockup\" data-action=\"show-user-card\" data-action-source=\"post_header_lockup\" data-action-value=\"fcc72a36edcb\" data-action-type=\"hover\" data-user-id=\"fcc72a36edcb\" dir=\"auto\"><img src=\"https://cdn-images-1.medium.com/fit/c/120/120/1*OWuYVpy0SpLQoncjzr-AlA.jpeg\" class=\"avatar-image avatar-image--small\" alt=\"Go to the profile of Yun-Chen Chien（簡韻真）\"></a></div><div class=\"u-flex1 u-paddingLeft15 u-overflowHidden\"><div class=\"u-lineHeightTightest\"><a class=\"ds-link ds-link--styleSubtle ui-captionStrong u-inlineBlock link link--darken link--darker\" href=\"https://medium.com/@aelcenganda?source=post_header_lockup\" data-action=\"show-user-card\" data-action-source=\"post_header_lockup\" data-action-value=\"fcc72a36edcb\" data-action-type=\"hover\" data-user-id=\"fcc72a36edcb\" dir=\"auto\">Yun-Chen Chien（簡韻真）</a><span class=\"followState js-followState\" data-user-id=\"fcc72a36edcb\"></span></div><div class=\"ui-caption ui-xs-clamp2 postMetaInline\">Nobody in @g0v.tw, PM in sense.tw to build online deliberation tools. Caring #civictech #opengov #startup. Now researching on Internet and open democracy.</div><div class=\"ui-caption postMetaInline js-testPostMetaInlineSupplemental\"><time datetime=\"2017-02-05T13:08:17.410Z\">Feb 5, 2017</time><span class=\"middotDivider u-fontSize12\"></span><span class=\"readingTime\" title=\"2 min read\"></span></div></div></div></div></div></header><div class=\"postArticle-content js-postField js-notesSource js-trackedPost\" data-post-id=\"46851b6cfaa\" data-source=\"post_page\" data-tracking-context=\"postPage\"><section name=\"e92b\" class=\"section section--body section--first section--last\"><div class=\"section-divider\"><hr class=\"section-divider\"></div><div class=\"section-content\"><div class=\"section-inner sectionLayout--insetColumn\"><h1 name=\"d5c4\" id=\"d5c4\" class=\"graf graf--h3 graf--leading graf--title\">走入山與海之間：閩東大刀會和兩岸走私</h1><figure name=\"cf83\" id=\"cf83\" class=\"graf graf--figure graf-after--h3\"><div class=\"aspectRatioPlaceholder is-locked\" style=\"max-width: 700px; max-height: 525px;\"><div class=\"aspectRatioPlaceholder-fill\" style=\"padding-bottom: 75%;\"></div><img class=\"graf-image\" data-image-id=\"1*k9fkAT-nIsQEe97noGjUhA.jpeg\" data-width=\"3264\" data-height=\"2448\" data-action=\"zoom\" data-action-value=\"1*k9fkAT-nIsQEe97noGjUhA.jpeg\" src=\"https://cdn-images-1.medium.com/max/1600/1*k9fkAT-nIsQEe97noGjUhA.jpeg\"></div></figure><p name=\"bb13\" id=\"bb13\" class=\"graf graf--p graf-after--figure\">閩東海濱是個山接海的地方，沿海是小小的灣澳錯落，漁船或遠或近地停泊。當我們沿著海邊走時，羅士傑老師總會興奮地說：「你看這地方，多適合躲人，就一副海盜窩的樣子！」</p><p name=\"29a1\" id=\"29a1\" class=\"graf graf--p graf-after--p\">這是一句激動的讚美，因為我們來此的目的是探訪民國時期的民間宗教武裝結社還有兩岸走私貿易。</p><figure name=\"670a\" id=\"670a\" class=\"graf graf--figure graf-after--p\"><div class=\"aspectRatioPlaceholder is-locked\" style=\"max-width: 700px; max-height: 394px;\"><div class=\"aspectRatioPlaceholder-fill\" style=\"padding-bottom: 56.3%;\"></div><img class=\"graf-image\" data-image-id=\"1*VxbB6xFTQDIV3HXh2m9l2Q.png\" data-width=\"1136\" data-height=\"640\" data-action=\"zoom\" data-action-value=\"1*VxbB6xFTQDIV3HXh2m9l2Q.png\" src=\"https://cdn-images-1.medium.com/max/1600/1*VxbB6xFTQDIV3HXh2m9l2Q.png\"></div><figcaption class=\"imageCaption\">閩東沿岸的星星就是我們這次拜訪的地方。</figcaption></figure><p name=\"9f10\" id=\"9f10\" class=\"graf graf--p graf-after--figure\">翻開閩東各地縣誌，從清末開始就充滿著各種倭寇進犯、禁烟令（禁止種植罌粟）、反洋教運動、取締花會捐（賭博）、緝鹽、民眾運動、走私。</p><p name=\"0f18\" id=\"0f18\" class=\"graf graf--p graf-after--p\">其中兩件事特別吸引了我們的注意。</p><p name=\"1db6\" id=\"1db6\" class=\"graf graf--p graf-after--p\">一是民國 32 年（1943 年）的大刀會暴動，聚集千餘人攻陷穆陽，國民黨政府緊急鎮壓，在民國 33 年處決首犯數餘人。大刀會是由地方仕紳組織成立的地方宗教團體「同善社」所延伸出來的武裝組織，目的是「防匪保家」。例如福安的同善社在民國 10 年創立於文昌祠樓上，民國 28 年反對當時縣長而暴動，有卸任知縣參與，被指控與「海匪」勾結，被指控以法師號召民眾、拜畸形兒做皇帝。後各地組織有與地方組織紅帶會結盟或對立，被國民黨肅清或接受國民黨資助對抗共產黨。</p><p name=\"092f\" id=\"092f\" class=\"graf graf--p graf-after--p\">這些所謂的「反動會道門」組織，一直在民間繼續傳佈，直到 1950-1960 年中國共產黨大力取締殲滅瑤池道、先天道、老母道、龍華道等「反動會道門」組織，才逐漸銷聲匿跡。</p><p name=\"c795\" id=\"c795\" class=\"graf graf--p graf-after--p\">二是綿延不斷的兩岸走私貿易。1950\\'s - 1960\\'s 兩岸仍不斷互相砲擊、飛偵測機、心戰喊話，甚至美軍和國民黨有空投昆蟲和細菌，縣誌上則記載陸續逮捕國民黨特務還有與海上保安隊對抗的紀錄。但有趣的是，在兩岸正式交流之前，1979 年三沙台灣漁民接待站就竣工了，1984 年後開始破獲走私，像是 1991 年霞浦破獲走私香菸三百多萬元，其他熱門走私品包括手錶、漁穫等。</p><p name=\"b365\" id=\"b365\" class=\"graf graf--p graf-after--p\">我們循著這兩條線索踏入閩東，展開歷史田野。身為歷史學家，老師有興趣的題目一直是「民間如何應對現代國家」，尤其以宗教作為地方組織的力量切入。</p><p name=\"8910\" id=\"8910\" class=\"graf graf--p graf-after--p\">如果單從檔案字面上看，我們很容易就對國家的敘事買單，但老師將民間視作有能動性的各種群體，有自己的邏輯，用自己的方法在跟所謂的「國家」互動。大概就是所謂的上有政策下有對策。</p><p name=\"01b1\" id=\"01b1\" class=\"graf graf--p graf-after--p\">這次文獻所引出的幾個有趣問題是，同善社、大刀會這樣的宗教紐帶，如何建立起地方武裝力量，他們又是如何與國民黨/中華民國、共產黨/中華人民共和國互動？同善社、大刀會這樣的宗教組織，也不若之前許多文獻中以廟宇為中心的討論地方的方法，而是以佛堂、法師為中心的組織。這樣的宗教組織，如何面對現代性的國家？尤其是當進入冷戰格局的兩岸對峙，對於地方脈絡來說，共產黨、國民黨、合法、非法的認知，還有國家對於他們來說又是什麼呢？</p><h4 name=\"f1be\" id=\"f1be\" class=\"graf graf--h4 graf-after--p\">宗教與地方</h4></div><div class=\"section-inner sectionLayout--outsetColumn\"><figure name=\"7d21\" id=\"7d21\" class=\"graf graf--figure graf--layoutOutsetCenter graf-after--h4\"><div class=\"aspectRatioPlaceholder is-locked\" style=\"max-width: 1000px; max-height: 750px;\"><div class=\"aspectRatioPlaceholder-fill\" style=\"padding-bottom: 75%;\"></div><img class=\"graf-image\" data-image-id=\"1*tZgL2QLzxVYGwC0vs_995w.jpeg\" data-width=\"3264\" data-height=\"2448\" data-action=\"zoom\" data-action-value=\"1*tZgL2QLzxVYGwC0vs_995w.jpeg\" src=\"https://cdn-images-1.medium.com/max/2000/1*tZgL2QLzxVYGwC0vs_995w.jpeg\"></div><figcaption class=\"imageCaption\">三沙冬澳媽祖宮前</figcaption></figure></div><div class=\"section-inner sectionLayout--insetColumn\"><p name=\"9db6\" id=\"9db6\" class=\"graf graf--p graf-after--figure\">老師上課總愛開玩笑說，在華南做宗教地方研究就是進村找廟、進廟找碑。</p><p name=\"5f4a\" id=\"5f4a\" class=\"graf graf--p graf-after--p\">這句話一半對。</p><p name=\"0d39\" id=\"0d39\" class=\"graf graf--p graf-after--p\">我們的確沿著舊時的海岸線，探訪了幾間天后宮、文武靈王廟，往外眺望曾經是海的地方。也在前岐的天后宮撒麵粉抄錄了奉憲示禁碑，從前岐這個明礬出口的河口，一路追到靠近溫州的明礬主要產地礬山鎮。（這是另外一個有意思的明礬貿易與「階級革命」的故事了，老師說應該可以寫一篇碩論了）</p><p name=\"b6f7\" id=\"b6f7\" class=\"graf graf--p graf-after--p\">但就像在字裡行間看出微言大義，我們在找官方敘事之外的民間故事還有廟宇之外的地方宗教運作方式。</p><p name=\"0d1e\" id=\"0d1e\" class=\"graf graf--p graf-after--p\">根據當時的調查文獻上，所謂的「反動會道門」有各式各樣職業，許多是城市小資產階級，不乏外地人，設壇於民宅中，由法師定時帶領會眾誦經行法事。老師解釋說宗教不只是逢年過節祭拜而已，需要形成團體互相支持。但在我看來這樣的組織是平行於媽祖信仰的、文武靈王、華光大帝的一種信仰方式，不然直接以媽祖做為號召即可，何必再搞出一個老母娘/瑤池金母在拜呢？地方上的宗教組織，可能是有好幾個宗教團體相互拮抗，像是如今的一貫道與媽祖信仰平行吸納群眾信仰。</p><p name=\"be67\" id=\"be67\" class=\"graf graf--p graf-after--p\">反動會道門在 1960’s 後基本上銷聲匿跡，這種祕密宗教組織也難以短時間與當地人聊天取得資訊。不過我們在三沙找到天地壇，裡面祭拜當年的壇主與不知名神明。也在天后宮裡發現兼拜奶娘。或是記述毛一、毛二法師行至羅源一帶弘法治病。</p><p name=\"4573\" id=\"4573\" class=\"graf graf--p graf-after--p\">在連江一帶則沿路多佛堂，有師父定時帶領誦經念課。其中一個佛堂裡的顧堂大嬸跟我們表示，這間佛堂本在偏僻山中，由「菜友」集資買下現在這塊地，興建佛堂，觀看廟牆上的捐獻紀錄多見女性，呼應文獻上鄉村中老年女性藉由宗教活動脫離家庭責任。拜觀音需脫鞋，旁邊則是一個食堂，有桌椅和廚房供集會之用。佛堂也更進一步與安養系統整合，我們進到一個直接名為「安養念佛堂」的佛堂，裡面有三十多位年長居士居住，兩三位師父，富麗堂皇。</p><p name=\"3983\" id=\"3983\" class=\"graf graf--p graf-after--p\">不過這樣的宗教組織聯繫，有沒有在兩岸之間牽起貿易網絡呢？這點還不是很清楚。或是宗教武裝組織如何與現代化互動？在文獻看起來，大刀會這批人先是被國民黨認為是迷信的地方組織需要清肅，後抗日又有合作，又與共產黨不合，國民黨在 1949 年撤退後還提供機關槍供其對抗共產黨。</p><p name=\"ccdf\" id=\"ccdf\" class=\"graf graf--p graf-after--p\">宗教在地方的形式會經過許多轉化與整合，例如這次拜訪的許多廟宇是在西元兩千年後才修建，可視為配合地方復興政策，或是那時鄉村真的開始富起來了，或是配合統戰政策，例如一間天后宮牆上貼著胡錦濤 2006 年 1 月時的談話：「媽祖信仰深深的紮根在台灣民眾的精神生活中，我們要運用好這一豐富資源，在促進兩岸交流中更好地發揮作用。」許多廟宇也與地方文化禮堂結合，一樓是挑高的禮堂活動空間，二樓則是廟。</p><p name=\"8f16\" id=\"8f16\" class=\"graf graf--p graf-after--p\">最絕的可能是我們走訪的一間鄭氏宗祠，上面掛了三個匾額：文化禮堂、鄭成功紀念館、鄭氏宗祠。看起來顯然是為了拿補助，一口氣讓整個場館多功能，一樓有球桌和很大的鄭成功塑像，二樓則是宗祠。這可視為地方對於政策的一種應對，以政策要求的外殼包裝地方需求。</p><h4 name=\"0294\" id=\"0294\" class=\"graf graf--h4 graf-after--p\">從大陸面對海洋：敵人還是朋友？</h4><p name=\"c529\" id=\"c529\" class=\"graf graf--p graf-after--h4\">「祖國大陸距離馬祖最近的地方」，大大的標語掛在連江縣黃岐鎮的入口。</p><p name=\"34c3\" id=\"34c3\" class=\"graf graf--p graf-after--p\">的確很近，1950 年馬祖駐軍砲擊黃岐鎮，三十多座民房被毀。</p><p name=\"e156\" id=\"e156\" class=\"graf graf--p graf-after--p\">如今在黃岐小三通的客運碼頭，寫著「連江縣同胞熱烈歡迎台灣同胞拜訪祖國大陸」，一天各兩班船班往返馬祖，航程不到三十分鐘。</p><p name=\"07cc\" id=\"07cc\" class=\"graf graf--p graf-after--p\">港口旁是頂著斗笠在補網的漁民，直接把網鋪開在馬路上，有羊在旁邊悠閒的晃蕩，不遠處則是船員介紹所。</p><p name=\"f554\" id=\"f554\" class=\"graf graf--p graf-after--p\">這裡講的方言屬福州系統，但在其他許多靠海的小漁村裡，雖靠近福州，我們竟可以以閩南語通行。老師一個想像是閩南語人群是海上的人，因此靠海的港口可能會有閩南語。閩東可能是最後一個蜑民上岸的地方。</p><figure name=\"94bf\" id=\"94bf\" class=\"graf graf--figure graf-after--p\"><div class=\"aspectRatioPlaceholder is-locked\" style=\"max-width: 700px; max-height: 525px;\"><div class=\"aspectRatioPlaceholder-fill\" style=\"padding-bottom: 75%;\"></div><img class=\"graf-image\" data-image-id=\"1*jniXEWnGBXwtNDSC1Djkpw.jpeg\" data-width=\"3264\" data-height=\"2448\" data-action=\"zoom\" data-action-value=\"1*jniXEWnGBXwtNDSC1Djkpw.jpeg\" src=\"https://cdn-images-1.medium.com/max/1600/1*jniXEWnGBXwtNDSC1Djkpw.jpeg\"></div><figcaption class=\"imageCaption\">水上仍有人家</figcaption></figure><p name=\"90ad\" id=\"90ad\" class=\"graf graf--p graf-after--figure\">我們跑了五天的沿海漁村，其實面貌各異。</p><p name=\"80f8\" id=\"80f8\" class=\"graf graf--p graf-after--p\">除了傳統的小漁村，有的地方建造海堤把河口內海做為農地，有的地方填海造建鋼鐵廠、核電廠或是一座每棟建築都二十層樓高且長的一模一樣的新城，也有些地方開一般的工廠，村裡的大街在辦年貨擠的水泄不通。</p><p name=\"5cef\" id=\"5cef\" class=\"graf graf--p graf-after--p\">也有些地方布滿的解放軍的軍事基地，商業化大概就無緣了。這也不奇怪，閩東歷來就有許多海防的衛所，我們拜訪了定海古城和浦城。衛所是明代的軍事制度，從外地派駐軍隊，駐紮在高牆圍起的城裡，佔據海防要地，依山傍海，山後有屯田。不過如今駐紮於此的解放軍，許多都是劃在南京軍區下的南方人，很多是福建人。</p><p name=\"a6cd\" id=\"a6cd\" class=\"graf graf--p graf-after--p\">我們跟身著藍色迷彩服的解放軍一同搭船前往三都澳，<a href=\"https://zh.wikipedia.org/wiki/%E5%85%89%E7%BB%AA\" data-href=\"https://zh.wikipedia.org/wiki/%E5%85%89%E7%BB%AA\" class=\"markup--anchor markup--p-anchor\" title=\"光緒\" rel=\"nofollow noopener\" target=\"_blank\">光緒</a>二十三年正式開放作為對外通商口岸，設置海關。街上一片蕭索，我們氣喘吁吁爬上了一座山坡，俯瞰整個三都澳的港灣，山頭上座落著教堂還有貌似海關/洋行的歐式建築。</p></div><div class=\"section-inner sectionLayout--outsetRow\" data-paragraph-count=\"2\"><figure name=\"a3fb\" id=\"a3fb\" class=\"graf graf--figure graf--layoutOutsetRow is-partialWidth graf-after--p\" style=\"width: 50%;\"><div class=\"aspectRatioPlaceholder is-locked\"><div class=\"aspectRatioPlaceholder-fill\" style=\"padding-bottom: 75%;\"></div><img class=\"graf-image\" data-image-id=\"1*Ot4g8_WsuzUbCKzUGUVRRw.jpeg\" data-width=\"3264\" data-height=\"2448\" data-action=\"zoom\" data-action-value=\"1*Ot4g8_WsuzUbCKzUGUVRRw.jpeg\" src=\"https://cdn-images-1.medium.com/max/1200/1*Ot4g8_WsuzUbCKzUGUVRRw.jpeg\"></div></figure><figure name=\"4acb\" id=\"4acb\" class=\"graf graf--figure graf--layoutOutsetRowContinue is-partialWidth graf-after--figure\" style=\"width: 50%;\"><div class=\"aspectRatioPlaceholder is-locked\"><div class=\"aspectRatioPlaceholder-fill\" style=\"padding-bottom: 75%;\"></div><img class=\"graf-image\" data-image-id=\"1*IJZRCu9OV8eCCxiNSKToSA.jpeg\" data-width=\"3264\" data-height=\"2448\" data-action=\"zoom\" data-action-value=\"1*IJZRCu9OV8eCCxiNSKToSA.jpeg\" src=\"https://cdn-images-1.medium.com/max/1200/1*IJZRCu9OV8eCCxiNSKToSA.jpeg\"></div></figure></div><div class=\"section-inner sectionLayout--insetColumn\"><p name=\"3e26\" id=\"3e26\" class=\"graf graf--p graf-after--figure\">我們跟一個在解放軍部隊待了十二年的大哥聊天，他說：「我恨死陳水扁了。我那時請假回家結婚，結果結婚前一天接到士官長的電話要我回部隊『戰備』，就只因為陳水扁要參選，還是長官給我方便，給我說成是去遼寧，趕回部隊要三天，我才結到婚的。但之後每次跟老婆吵架，她就會說：『我從結婚那天就看你很不順眼了！』」</p><p name=\"5964\" id=\"5964\" class=\"graf graf--p graf-after--p\">我啃著繼光餅（對，就是傳說戚繼光打倭寇時做的餅），聽老師跟大哥聊抓逃兵聊得不亦樂乎，原來兩岸抓逃兵的 SOP 和規定是一樣的啊！大哥說兩岸和平該有多好，大家都是可以交朋友嘛。</p><p name=\"9d87\" id=\"9d87\" class=\"graf graf--p graf-after--p\">說到走私，當地人說船體通體漆黑，沒有船舷，開得飛快，海防艦艇追不上。其中買賣油是筆好生意，台灣漁民會把油加滿開到公海上，大陸這頭的漁民再去取油，兩方心照不宣。沿途也有看到佔地甚廣的台灣漁民招待所。這些招待所建在兩岸正式通航之前。這些「漁民」在此之前可能被視作「特務」，從請吃子彈到請喝茶互相作為心戰宣傳管道。</p><p name=\"9185\" id=\"9185\" class=\"graf graf--p graf-after--p\">其實走私沒我們想像的那麼遠。從廈門小三通回台灣時，當地旅行社的櫃檯一直要我們「帶包香菇」，一個人給你一百元人民幣。當時直接拒絕了，很怕不是真的香菇，但上網查了之後發現好像是真的香菇，只是台灣跟中國的香菇價差太大了。</p><h4 name=\"d2d3\" id=\"d2d3\" class=\"graf graf--h4 graf-after--p\">雜記</h4><p name=\"84d9\" id=\"84d9\" class=\"graf graf--p graf-after--h4\">文章最後還是沒回答文章一開始針對宗教與走私所提出的大問題，只是用這樣的角度看民間社會與現代國家的互動會很有趣，就請大家期待老師的論文吧！</p><p name=\"911e\" id=\"911e\" class=\"graf graf--p graf-after--p\">這趟走下來，除了推論歷史，我不斷提醒自己的是要去看見那些互聯網之外的地方，尤其我們走在那些百度地圖上沒有的小路上時。羅士傑老師一向關注人是怎麼活著的，我則在思考當我們說著公民科技的時候，這樣的科技對於農村的人生活影響能有多少，有科技就能翻轉政治權力嗎？還是需整合舊有的民間凝聚力量？下一代的農村年輕人還會依附於宗教上嗎？他們信仰的會是什麼？</p><p name=\"4e9e\" id=\"4e9e\" class=\"graf graf--p graf-after--p\">老師回台灣的路上一直在講台灣人年輕人\\u200a—\\u200a尤其是要台獨的人\\u200a—\\u200a對中國不夠瞭解，不理解中國年輕人的話題也不瞭解農村。</p><p name=\"5382\" id=\"5382\" class=\"graf graf--p graf-after--p\">福建鄉下地方過年熱鬧的緊，鎮上那條大街整排的樹都掛上了紅燈籠，採買年貨的人穿梭在狂按喇吧的車陣中，幾個小孩蹦跳而過，老師轉身問我：「你覺得十年後這些小孩會在做什麼？」</p><figure name=\"df83\" id=\"df83\" class=\"graf graf--figure graf-after--p\"><div class=\"aspectRatioPlaceholder is-locked\" style=\"max-width: 700px; max-height: 525px;\"><div class=\"aspectRatioPlaceholder-fill\" style=\"padding-bottom: 75%;\"></div><img class=\"graf-image\" data-image-id=\"1*YE7nnWU0ib29U7eidJvGTA.jpeg\" data-width=\"3264\" data-height=\"2448\" data-action=\"zoom\" data-action-value=\"1*YE7nnWU0ib29U7eidJvGTA.jpeg\" src=\"https://cdn-images-1.medium.com/max/1600/1*YE7nnWU0ib29U7eidJvGTA.jpeg\"></div></figure><h4 name=\"9daf\" id=\"9daf\" class=\"graf graf--h4 graf-after--figure\"><strong class=\"markup--strong markup--h4-strong\">附錄</strong></h4><p name=\"2e61\" id=\"2e61\" class=\"graf graf--p graf-after--h4\">感謝臺大歷史系羅士傑教授，以及台大歷史所學姐鄭凌霄，學姐正好是福州羅源人，一路上張羅田野行程還有方言翻譯。出田野有在地人真的很重要啊！</p><figure name=\"e40d\" id=\"e40d\" class=\"graf graf--figure graf-after--p\"><div class=\"aspectRatioPlaceholder is-locked\" style=\"max-width: 700px; max-height: 373px;\"><div class=\"aspectRatioPlaceholder-fill\" style=\"padding-bottom: 53.300000000000004%;\"></div><img class=\"graf-image\" data-image-id=\"1*T25CE5uDnSDlQZLUvnC_jA.png\" data-width=\"1043\" data-height=\"556\" data-action=\"zoom\" data-action-value=\"1*T25CE5uDnSDlQZLUvnC_jA.png\" src=\"https://cdn-images-1.medium.com/max/1600/1*T25CE5uDnSDlQZLUvnC_jA.png\"></div><figcaption class=\"imageCaption\">福安縣誌 p697</figcaption></figure><figure name=\"34ed\" id=\"34ed\" class=\"graf graf--figure graf-after--figure\"><div class=\"aspectRatioPlaceholder is-locked\" style=\"max-width: 700px; max-height: 283px;\"><div class=\"aspectRatioPlaceholder-fill\" style=\"padding-bottom: 40.5%;\"></div><img class=\"graf-image\" data-image-id=\"1*d_R4AhL2TbrXx_35ry8V3w.png\" data-width=\"1020\" data-height=\"413\" data-action=\"zoom\" data-action-value=\"1*d_R4AhL2TbrXx_35ry8V3w.png\" src=\"https://cdn-images-1.medium.com/max/1600/1*d_R4AhL2TbrXx_35ry8V3w.png\"></div><figcaption class=\"imageCaption\">福安縣誌 p698</figcaption></figure><figure name=\"7066\" id=\"7066\" class=\"graf graf--figure graf-after--figure\"><div class=\"aspectRatioPlaceholder is-locked\" style=\"max-width: 700px; max-height: 403px;\"><div class=\"aspectRatioPlaceholder-fill\" style=\"padding-bottom: 57.599999999999994%;\"></div><img class=\"graf-image\" data-image-id=\"1*7W1n8VUI2Mimw8R1kIo_gw.png\" data-width=\"1087\" data-height=\"626\" data-action=\"zoom\" data-action-value=\"1*7W1n8VUI2Mimw8R1kIo_gw.png\" src=\"https://cdn-images-1.medium.com/max/1600/1*7W1n8VUI2Mimw8R1kIo_gw.png\"></div></figure><figure name=\"daa5\" id=\"daa5\" class=\"graf graf--figure graf-after--figure\"><div class=\"aspectRatioPlaceholder is-locked\" style=\"max-width: 700px; max-height: 413px;\"><div class=\"aspectRatioPlaceholder-fill\" style=\"padding-bottom: 59%;\"></div><img class=\"graf-image\" data-image-id=\"1*cYbXbY1wA2NbSAOWTSY_OA.png\" data-width=\"1051\" data-height=\"620\" data-action=\"zoom\" data-action-value=\"1*cYbXbY1wA2NbSAOWTSY_OA.png\" src=\"https://cdn-images-1.medium.com/max/1600/1*cYbXbY1wA2NbSAOWTSY_OA.png\"></div><figcaption class=\"imageCaption\">福安縣誌 p733,734</figcaption></figure><p name=\"7d99\" id=\"7d99\" class=\"graf graf--p graf-after--figure graf--trailing\">回台灣的路上，跟老師聊大學教育，老師說：「大學是年輕人最有餘裕思考人文問題的人，我們卻要急著將他們往職場推。」對我而言是以正向心態擁抱自己的餘裕，且越發覺得自己念的書太少，要多讀書。</p></div></div></section></div><footer class=\"u-paddingTop10\"><div class=\"container u-maxWidth740\"><div class=\"row\"><div class=\"col u-size12of12\"><div class=\"postMetaInline postMetaInline--acknowledgments u-paddingTop5 u-paddingBottom20 js-postMetaAcknowledgments\"><a class=\"link u-baseColor--link\" href=\"http://creativecommons.org/licenses/by/4.0/\" rel=\"license cc:license\" target=\"_blank\" data-tooltip=\"Except where otherwise noted, this work is licensed under a Creative Commons Attribution 4.0 International license by the author.\">Some rights reserved</a><span class=\"postMetaInline-licenseIcons u-marginLeft5\"><span title=\"You can distribute, remix, and build upon this work as long as you credit the author.\"><span class=\"svgIcon svgIcon--creativeCommonsBy svgIcon--21px\"><svg class=\"svgIcon-use\" width=\"21\" height=\"21\" viewbox=\"0 0 21 21\"><path d=\"M10.485 2c2.387 0 4.4.82 6.04 2.46C18.175 6.107 19 8.12 19 10.5c0 2.388-.81 4.376-2.43 5.965C14.85 18.155 12.823 19 10.486 19c-2.298 0-4.29-.835-5.98-2.505C2.836 14.825 2 12.827 2 10.5s.835-4.34 2.505-6.04C6.145 2.82 8.137 2 10.485 2zm.03 1.533c-1.933 0-3.567.678-4.903 2.034-1.386 1.417-2.08 3.06-2.08 4.933 0 1.882.69 3.512 2.065 4.887 1.376 1.377 3.015 2.064 4.918 2.064 1.892 0 3.54-.69 4.948-2.07 1.336-1.28 2.004-2.91 2.004-4.87 0-1.93-.68-3.57-2.034-4.93-1.356-1.35-2.995-2.03-4.918-2.03zm2.277 4.857v3.476h-.97v4.128H9.18v-4.128h-.972V8.39a.53.53 0 0 1 .16-.387.528.528 0 0 1 .387-.16h3.49c.143 0 .27.054.38.16a.52.52 0 0 1 .167.387zM9.316 6.205c0-.8.394-1.2 1.184-1.2.79 0 1.184.4 1.184 1.2 0 .79-.395 1.183-1.184 1.183-.79 0-1.184-.394-1.184-1.183z\" fill-rule=\"evenodd\"></path></svg></span></span></span> </div></div></div><div class=\"row\"><div class=\"col u-size12of12 js-postTags\"><div class=\"u-paddingBottom10\"><ul class=\"tags tags--postTags tags--borderless\"><li><a class=\"link u-baseColor--link\" href=\"https://medium.com/tag/%E7%94%B0%E9%87%8E?source=post\" data-action-source=\"post\">田野</a></li><li><a class=\"link u-baseColor--link\" href=\"https://medium.com/tag/%E6%AD%B7%E5%8F%B2?source=post\" data-action-source=\"post\">歷史</a></li><li><a class=\"link u-baseColor--link\" href=\"https://medium.com/tag/%E9%96%A9%E6%9D%B1?source=post\" data-action-source=\"post\">閩東</a></li><li><a class=\"link u-baseColor--link\" href=\"https://medium.com/tag/%E5%A4%A7%E5%88%80%E6%9C%83?source=post\" data-action-source=\"post\">大刀會</a></li><li><a class=\"link u-baseColor--link\" href=\"https://medium.com/tag/%E8%B5%B0%E7%A7%81?source=post\" data-action-source=\"post\">走私</a></li></ul></div></div></div><section class=\"uiScale uiScale-ui--small uiScale-caption--regular u-borderTopLightest u-marginTop10 u-paddingTop20\"><div class=\"ui-h3 u-textColorDarker u-fontSize22\">One clap, two clap, three clap, forty?</div><p class=\"ui-body u-marginBottom20 u-textColorDark u-fontSize16\">By clapping more or less, you can signal to us which stories really stand out.</p></section><div class=\"postActions js-postActionsFooter\"><div class=\"u-flexCenter\"><div class=\"u-flex1\"><div class=\"multirecommend js-actionMultirecommend u-flexCenter u-width60\" data-post-id=\"46851b6cfaa\" data-is-icon-29px=\"true\" data-is-circle=\"true\" data-has-recommend-list=\"true\" data-source=\"post_actions_footer-----46851b6cfaa---------------------clap_footer\"><div class=\"u-relative u-foreground\"><div class=\"clapUndo u-width60 u-round u-height32 u-absolute u-borderBox u-paddingRight5 u-transition--transform200Spring u-background--brandSageLighter js-clapUndo\" style=\"top: 14px; padding: 2px;\"></div></div><span class=\"u-textAlignCenter u-relative u-background js-actionMultirecommendCount u-marginLeft10\"></span></div></div><div class=\"buttonSet u-flex0\"></div></div></div></div><div class=\"u-maxWidth740 u-paddingTop20 u-marginTop20 u-borderTopLightest container u-paddingBottom20 u-xs-paddingBottom10 js-postAttributionFooterContainer\"><div class=\"row js-postFooterInfo\"><div class=\"col u-size12of12\"><li class=\"uiScale uiScale-ui--small uiScale-caption--regular u-block u-paddingBottom18 js-cardUser\"><div class=\"u-marginLeft20 u-floatRight\"><span class=\"followState js-followState\" data-user-id=\"fcc72a36edcb\"></span></div><div class=\"u-tableCell\"><a class=\"link u-baseColor--link avatar\" href=\"https://medium.com/@aelcenganda?source=footer_card\" title=\"Go to the profile of Yun-Chen Chien（簡韻真）\" aria-label=\"Go to the profile of Yun-Chen Chien（簡韻真）\" data-action-source=\"footer_card\" data-user-id=\"fcc72a36edcb\" dir=\"auto\"><img src=\"https://cdn-images-1.medium.com/fit/c/120/120/1*OWuYVpy0SpLQoncjzr-AlA.jpeg\" class=\"avatar-image avatar-image--small\" alt=\"Go to the profile of Yun-Chen Chien（簡韻真）\"></a></div><div class=\"u-tableCell u-verticalAlignMiddle u-breakWord u-paddingLeft15\"><h3 class=\"ui-h3 u-fontSize18 u-lineHeightTighter u-marginBottom4\"><a class=\"link link--primary u-accentColor--hoverTextNormal\" href=\"https://medium.com/@aelcenganda\" property=\"cc:attributionName\" title=\"Go to the profile of Yun-Chen Chien（簡韻真）\" aria-label=\"Go to the profile of Yun-Chen Chien（簡韻真）\" rel=\"author cc:attributionUrl\" data-user-id=\"fcc72a36edcb\" dir=\"auto\">Yun-Chen Chien（簡韻真）</a></h3><p class=\"ui-body u-fontSize14 u-lineHeightBaseSans u-textColorDark u-marginBottom4\">Nobody in <a href=\"http://twitter.com/g0v\" target=\"_blank\" title=\"Twitter profile for @g0v\">@g0v</a>.tw, PM in sense.tw to build online deliberation tools. Caring #civictech #opengov #startup. Now researching on Internet and open democracy.</p></div></li></div></div></div><div class=\"js-postFooterPlacements\"></div><div class=\"u-padding0 u-clearfix u-backgroundGrayLightest u-print-hide supplementalPostContent js-responsesWrapper\"></div><div class=\"supplementalPostContent js-heroPromo\"></div></footer></div>',\n",
       " 'author': {'name': None,\n",
       "  'url': 'https://medium.com/@aelcenganda',\n",
       "  'twitter': '@aelcenganda'},\n",
       " 'image_url': 'https://cdn-images-1.medium.com/max/1200/1*k9fkAT-nIsQEe97noGjUhA.jpeg',\n",
       " 'tags': [],\n",
       " 'link_tags': {'canonical': 'https://medium.com/@aelcenganda/%E9%96%A9%E6%9D%B1%E6%AD%B7%E5%8F%B2%E7%94%B0%E9%87%8E%E9%9A%A8%E7%AD%86-46851b6cfaa',\n",
       "  'publisher': 'https://plus.google.com/103654360130207659246',\n",
       "  'author': 'https://medium.com/@aelcenganda',\n",
       "  'search': '/osd.xml',\n",
       "  'alternate': 'android-app://com.medium.reader/https/medium.com/p/46851b6cfaa',\n",
       "  'stylesheet': 'https://cdn-static-1.medium.com/_/fp/css/main-branding-base.dHv3MHpy06pRs4706uR7tg.css',\n",
       "  'icon': 'https://cdn-static-1.medium.com/_/fp/icons/favicon-rebrand-medium.3Y6xpZ-0FSdWDnPM3hSBIA.ico',\n",
       "  'apple-touch-icon': 'https://cdn-images-1.medium.com/fit/c/120/120/1*8I-HPL0bfoIzGied-dzOvA.png',\n",
       "  'mask-icon': 'https://cdn-static-1.medium.com/_/fp/icons/monogram-mask.KPLCSFEZviQN0jQ7veN2RQ.svg'},\n",
       " 'meta_tags': {'viewport': 'width=device-width, initial-scale=1',\n",
       "  'title': '走入山與海之間：閩東大刀會和兩岸走私 – Yun-Chen Chien（簡韻真） – Medium',\n",
       "  'referrer': 'unsafe-url',\n",
       "  'description': '閩東海濱是個山接海的地方，沿海是小小的灣澳錯落，漁船或遠或近地停泊。當我們沿著海邊走時，羅士傑老師總會興奮地說：「你看這地方，多適合躲人，就一副海盜窩的樣子！」. “走入山與海之間：閩東大刀會和兩岸走私” is published by Yun-Chen Chien（簡韻真）',\n",
       "  'theme-color': '#000000',\n",
       "  'og:title': '走入山與海之間：閩東大刀會和兩岸走私 – Yun-Chen Chien（簡韻真） – Medium',\n",
       "  'og:url': 'https://medium.com/@aelcenganda/%E9%96%A9%E6%9D%B1%E6%AD%B7%E5%8F%B2%E7%94%B0%E9%87%8E%E9%9A%A8%E7%AD%86-46851b6cfaa',\n",
       "  'og:image': 'https://cdn-images-1.medium.com/max/1200/1*k9fkAT-nIsQEe97noGjUhA.jpeg',\n",
       "  'fb:app_id': '542599432471018',\n",
       "  'og:description': '閩東海濱是個山接海的地方，沿海是小小的灣澳錯落，漁船或遠或近地停泊。當我們沿著海邊走時，羅士傑老師總會興奮地說：「你看這地方，多適合躲人，就一副海盜窩的樣子！」',\n",
       "  'twitter:description': '閩東海濱是個山接海的地方，沿海是小小的灣澳錯落，漁船或遠或近地停泊。當我們沿著海邊走時，羅士傑老師總會興奮地說：「你看這地方，多適合躲人，就一副海盜窩的樣子！」',\n",
       "  'twitter:image:src': 'https://cdn-images-1.medium.com/max/1200/1*k9fkAT-nIsQEe97noGjUhA.jpeg',\n",
       "  'author': 'Yun-Chen Chien（簡韻真）',\n",
       "  'og:type': 'article',\n",
       "  'twitter:card': 'summary_large_image',\n",
       "  'article:publisher': 'https://www.facebook.com/medium',\n",
       "  'article:author': 'https://medium.com/@aelcenganda',\n",
       "  'robots': 'index, follow',\n",
       "  'article:published_time': '2017-02-05T13:08:17.410Z',\n",
       "  'twitter:creator': '@aelcenganda',\n",
       "  'twitter:site': '@Medium',\n",
       "  'og:site_name': 'Medium',\n",
       "  'twitter:label1': 'Reading time',\n",
       "  'twitter:data1': '2 min read',\n",
       "  'twitter:app:name:iphone': 'Medium',\n",
       "  'twitter:app:id:iphone': '828256236',\n",
       "  'twitter:app:url:iphone': 'medium://p/46851b6cfaa',\n",
       "  'al:ios:app_name': 'Medium',\n",
       "  'al:ios:app_store_id': '828256236',\n",
       "  'al:android:package': 'com.medium.reader',\n",
       "  'al:android:app_name': 'Medium',\n",
       "  'al:ios:url': 'medium://p/46851b6cfaa',\n",
       "  'al:android:url': 'medium://p/46851b6cfaa',\n",
       "  'al:web:url': 'https://medium.com/@aelcenganda/%E9%96%A9%E6%9D%B1%E6%AD%B7%E5%8F%B2%E7%94%B0%E9%87%8E%E9%9A%A8%E7%AD%86-46851b6cfaa'}}"
      ]
     },
     "execution_count": 6,
     "metadata": {},
     "output_type": "execute_result"
    }
   ],
   "source": [
    "jsond"
   ]
  },
  {
   "cell_type": "code",
   "execution_count": 151,
   "metadata": {},
   "outputs": [],
   "source": [
    "PATH_TO_DATA = 'data/' # modify this if you need to"
   ]
  },
  {
   "cell_type": "code",
   "execution_count": 152,
   "metadata": {},
   "outputs": [
    {
     "data": {
      "application/vnd.jupyter.widget-view+json": {
       "model_id": "206fb480ca7a4e6882a71542f199d83c",
       "version_major": 2,
       "version_minor": 0
      },
      "text/plain": [
       "HBox(children=(IntProgress(value=1, bar_style='info', max=1), HTML(value='')))"
      ]
     },
     "metadata": {},
     "output_type": "display_data"
    },
    {
     "name": "stdout",
     "output_type": "stream",
     "text": [
      "\n"
     ]
    }
   ],
   "source": [
    "extract_features_and_write(PATH_TO_DATA, 'train.json', is_train=True)"
   ]
  },
  {
   "cell_type": "code",
   "execution_count": 153,
   "metadata": {},
   "outputs": [
    {
     "data": {
      "application/vnd.jupyter.widget-view+json": {
       "model_id": "7da2b1e952d74bd08986f5425a5b6c8a",
       "version_major": 2,
       "version_minor": 0
      },
      "text/plain": [
       "HBox(children=(IntProgress(value=1, bar_style='info', max=1), HTML(value='')))"
      ]
     },
     "metadata": {},
     "output_type": "display_data"
    },
    {
     "name": "stdout",
     "output_type": "stream",
     "text": [
      "\n"
     ]
    }
   ],
   "source": [
    "extract_features_and_write(PATH_TO_DATA, 'test.json', is_train=False)"
   ]
  },
  {
   "cell_type": "markdown",
   "metadata": {},
   "source": [
    "**Add the following groups of features:**\n",
    "    - Tf-Idf with article content (ngram_range=(1, 2), max_features=100000 but you can try adding more)\n",
    "    - Tf-Idf with article titles (ngram_range=(1, 2), max_features=100000 but you can try adding more)\n",
    "    - Time features: publication hour, whether it's morning, day, night, whether it's a weekend\n",
    "    - Bag of authors (i.e. One-Hot-Encoded author names)"
   ]
  },
  {
   "cell_type": "code",
   "execution_count": 19,
   "metadata": {},
   "outputs": [],
   "source": [
    "from sklearn.feature_extraction.text import TfidfVectorizer\n",
    "from sklearn.preprocessing import OneHotEncoder"
   ]
  },
  {
   "cell_type": "markdown",
   "metadata": {},
   "source": [
    "#### Datetime features"
   ]
  },
  {
   "cell_type": "code",
   "execution_count": 227,
   "metadata": {},
   "outputs": [
    {
     "data": {
      "text/plain": [
       "((62313, 1), (34645, 1))"
      ]
     },
     "execution_count": 227,
     "metadata": {},
     "output_type": "execute_result"
    }
   ],
   "source": [
    "X_datetime_train = pd.read_csv('data/generated/train_published.txt', \n",
    "            names=['datetime','b'], \n",
    "            parse_dates=['datetime'])[['datetime']]\n",
    "X_datetime_test = pd.read_csv('data/generated/test_published.txt', \n",
    "            names=['datetime','b'], \n",
    "            parse_dates=['datetime'])[['datetime']]\n",
    "\n",
    "X_datetime_train.shape, X_datetime_test.shape"
   ]
  },
  {
   "cell_type": "code",
   "execution_count": 258,
   "metadata": {},
   "outputs": [],
   "source": [
    "def add_datetime_features(df):\n",
    "    hour = df.datetime.apply(lambda time: time.hour)\n",
    "    weekday = df.datetime.apply(lambda date: date.dayofweek)\n",
    "    weekend = (weekday.isin([5,6]))\n",
    "    morning = ((hour >= 7) & (hour <= 11)).astype('int')\n",
    "    day = ((hour >= 12) & (hour <= 18)).astype('int')\n",
    "    evening = ((hour >= 19) & (hour <= 23)).astype('int')\n",
    "    night = ((hour >= 0) & (hour <= 6)).astype('int')\n",
    "#     X = hstack([hour.values.reshape(-1, 1),\n",
    "#                 weekend.values.reshape(-1,1),\n",
    "#                 morning.values.reshape(-1,1),\n",
    "#                 day.values.reshape(-1,1),\n",
    "#                 evening.values.reshape(-1,1),\n",
    "#                 night.values.reshape(-1,1)])\n",
    "    return csr_matrix(np.hstack([hour.values.reshape(-1,1),\n",
    "                weekend.values.reshape(-1,1),\n",
    "                morning.values.reshape(-1,1),\n",
    "                day.values.reshape(-1,1),\n",
    "                evening.values.reshape(-1,1),\n",
    "                night.values.reshape(-1,1)]))"
   ]
  },
  {
   "cell_type": "code",
   "execution_count": 263,
   "metadata": {},
   "outputs": [],
   "source": [
    "X_datetime_train_sparse = add_datetime_features(X_datetime_train)\n",
    "X_datetime_test_sparse = add_datetime_features(X_datetime_test)"
   ]
  },
  {
   "cell_type": "markdown",
   "metadata": {},
   "source": [
    "#### Author features"
   ]
  },
  {
   "cell_type": "code",
   "execution_count": 260,
   "metadata": {},
   "outputs": [],
   "source": [
    "def getnick(path):\n",
    "    return os.path.basename(os.path.normpath(path))"
   ]
  },
  {
   "cell_type": "code",
   "execution_count": 261,
   "metadata": {},
   "outputs": [],
   "source": [
    "X_authors_train = pd.read_csv(open('data/generated/train_author.txt'), \n",
    "                        names=['url']).url.apply(getnick)\n",
    "X_authors_test = pd.read_csv(open('data/generated/test_author.txt'), \n",
    "                        names=['url']).url.apply(getnick)"
   ]
  },
  {
   "cell_type": "code",
   "execution_count": 262,
   "metadata": {
    "scrolled": true
   },
   "outputs": [
    {
     "data": {
      "text/plain": [
       "((62313,), (34645,))"
      ]
     },
     "execution_count": 262,
     "metadata": {},
     "output_type": "execute_result"
    }
   ],
   "source": [
    "X_authors_train.shape, X_authors_test.shape"
   ]
  },
  {
   "cell_type": "code",
   "execution_count": 199,
   "metadata": {},
   "outputs": [],
   "source": [
    "ohe = OneHotEncoder(handle_unknown='ignore')  # Ignore unknown authors in test\n",
    "X_authors_train_ohe = ohe.fit_transform(X_authors_train.values.reshape(-1, 1))\n",
    "X_authors_test_ohe = ohe.transform(X_authors_test.values.reshape(-1, 1))"
   ]
  },
  {
   "cell_type": "markdown",
   "metadata": {},
   "source": [
    "#### Title and Content features"
   ]
  },
  {
   "cell_type": "code",
   "execution_count": 175,
   "metadata": {},
   "outputs": [],
   "source": [
    "tf_idf_vecr = TfidfVectorizer(ngram_range=(1,2), max_features=100000)"
   ]
  },
  {
   "cell_type": "code",
   "execution_count": 176,
   "metadata": {},
   "outputs": [
    {
     "data": {
      "text/plain": [
       "((62313, 100000), (34645, 100000))"
      ]
     },
     "execution_count": 176,
     "metadata": {},
     "output_type": "execute_result"
    }
   ],
   "source": [
    "with open('data/generated/train_title.txt') as input_file:\n",
    "    X_title_train_tfidf = tf_idf_vecr.fit_transform(input_file)\n",
    "\n",
    "with open('data/generated/test_title.txt') as input_file:\n",
    "    X_title_test_tfidf = tf_idf_vecr.transform(input_file)\n",
    "    \n",
    "X_title_train_tfidf.shape, X_title_test_tfidf.shape"
   ]
  },
  {
   "cell_type": "code",
   "execution_count": 178,
   "metadata": {},
   "outputs": [
    {
     "name": "stdout",
     "output_type": "stream",
     "text": [
      "CPU times: user 7min 32s, sys: 21 s, total: 7min 53s\n",
      "Wall time: 7min 55s\n"
     ]
    }
   ],
   "source": [
    "%%time\n",
    "with open('data/generated/train_content.txt') as f:\n",
    "    X_content_train_tfidf = tf_idf_vecr.fit_transform(f)\n",
    "with open('data/generated/test_content.txt') as f:\n",
    "    X_content_test_tfidf = tf_idf_vecr.transform(f)\n",
    "\n",
    "X_content_train_tfidf.shape, X_content_test_tfidf.shape"
   ]
  },
  {
   "cell_type": "code",
   "execution_count": 179,
   "metadata": {},
   "outputs": [
    {
     "data": {
      "text/plain": [
       "((62313, 100000), (34645, 100000))"
      ]
     },
     "execution_count": 179,
     "metadata": {},
     "output_type": "execute_result"
    }
   ],
   "source": [
    "X_content_train_tfidf.shape, X_content_test_tfidf.shape"
   ]
  },
  {
   "cell_type": "markdown",
   "metadata": {},
   "source": [
    "**Join all sparse matrices.**"
   ]
  },
  {
   "cell_type": "code",
   "execution_count": 267,
   "metadata": {},
   "outputs": [],
   "source": [
    "X_train_sparse = hstack([X_content_train_tfidf, X_title_train_tfidf,\n",
    "                         X_datetime_train_sparse, X_authors_train_ohe]).tocsr()\n",
    "X_test_sparse = hstack([X_content_test_tfidf, X_title_test_tfidf,\n",
    "                        X_datetime_test_sparse, X_authors_test_ohe]).tocsr()"
   ]
  },
  {
   "cell_type": "markdown",
   "metadata": {},
   "source": [
    "# Training and Validating\n",
    "___"
   ]
  },
  {
   "cell_type": "markdown",
   "metadata": {},
   "source": [
    "**Read train target and split data for validation.**"
   ]
  },
  {
   "cell_type": "code",
   "execution_count": 268,
   "metadata": {},
   "outputs": [],
   "source": [
    "train_target = pd.read_csv(os.path.join(PATH_TO_DATA, 'train_log1p_recommends.csv'), \n",
    "                           index_col='id')\n",
    "y_train = train_target['log_recommends'].values"
   ]
  },
  {
   "cell_type": "code",
   "execution_count": 272,
   "metadata": {},
   "outputs": [],
   "source": [
    "train_part_size = int(0.7 * train_target.shape[0])\n",
    "\n",
    "X_train_part_sparse = X_train_sparse[:train_part_size, :]\n",
    "y_train_part = y_train[:train_part_size]\n",
    "\n",
    "X_valid_sparse =  X_train_sparse[train_part_size:, :]\n",
    "y_valid = y_train[train_part_size:]"
   ]
  },
  {
   "cell_type": "markdown",
   "metadata": {},
   "source": [
    "**Train a simple Ridge model and check MAE on the validation set.**"
   ]
  },
  {
   "cell_type": "code",
   "execution_count": 273,
   "metadata": {},
   "outputs": [
    {
     "data": {
      "text/plain": [
       "1.0700332344177363"
      ]
     },
     "execution_count": 273,
     "metadata": {},
     "output_type": "execute_result"
    }
   ],
   "source": [
    "ridge_regr = Ridge()\n",
    "ridge_regr.fit(X_train_part_sparse, y_train_part)\n",
    "mean_absolute_error(y_valid, ridge_regr.predict(X_valid_sparse))"
   ]
  },
  {
   "cell_type": "markdown",
   "metadata": {},
   "source": [
    "**Train the same Ridge with all available data, make predictions for the test set and form a submission file.**"
   ]
  },
  {
   "cell_type": "code",
   "execution_count": 275,
   "metadata": {},
   "outputs": [
    {
     "name": "stdout",
     "output_type": "stream",
     "text": [
      "CPU times: user 3min 56s, sys: 2.18 s, total: 3min 58s\n",
      "Wall time: 3min 58s\n"
     ]
    }
   ],
   "source": [
    "%%time\n",
    "y_submit = ridge_regr.fit(X_train_sparse, y_train).predict(X_test_sparse)"
   ]
  },
  {
   "cell_type": "code",
   "execution_count": 306,
   "metadata": {},
   "outputs": [
    {
     "data": {
      "image/png": "[encoded data removed]",
      "text/plain": [
       "<Figure size 432x288 with 1 Axes>"
      ]
     },
     "metadata": {
      "image/png": {
       "height": 250,
       "width": 383
      }
     },
     "output_type": "display_data"
    }
   ],
   "source": [
    "plt.hist(y_valid, bins=30, alpha=.5, color='red', label='true', range=(0,10));\n",
    "plt.hist(y_submit, bins=30, alpha=.5, color='green', label='pred', range=(0,10));\n",
    "plt.hist(y_train, bins=30, alpha=.15, color='blue', label='train')\n",
    "\n",
    "plt.legend();"
   ]
  },
  {
   "cell_type": "code",
   "execution_count": 283,
   "metadata": {},
   "outputs": [],
   "source": [
    "def write_submission_file(prediction, filename,\n",
    "                          path_to_sample=os.path.join(PATH_TO_DATA, \n",
    "                                                      'sample_submission.csv')):\n",
    "    submission = pd.read_csv(path_to_sample, index_col='id')\n",
    "    \n",
    "    submission['log_recommends'] = prediction\n",
    "    submission.to_csv(filename)"
   ]
  },
  {
   "cell_type": "code",
   "execution_count": 284,
   "metadata": {},
   "outputs": [],
   "source": [
    "write_submission_file(y_submit, os.path.join(PATH_TO_DATA,\n",
    "                                                    'assignment6_medium_submission.csv'))"
   ]
  },
  {
   "cell_type": "markdown",
   "metadata": {},
   "source": [
    "**Now's the time for dirty Kaggle hacks. Form a submission file with all zeroes. Make a submission. What do you get if you think about it? How is it going to help you with modifying your predictions?**"
   ]
  },
  {
   "cell_type": "code",
   "execution_count": 286,
   "metadata": {},
   "outputs": [],
   "source": [
    "write_submission_file(np.zeros_like(y_submit), \n",
    "                      os.path.join(PATH_TO_DATA,\n",
    "                                   'medium_all_zeros_submission.csv'))"
   ]
  },
  {
   "cell_type": "markdown",
   "metadata": {},
   "source": [
    "**Modify predictions in an appropriate way (based on your all-zero submission) and make a new submission.**"
   ]
  },
  {
   "cell_type": "code",
   "execution_count": 291,
   "metadata": {},
   "outputs": [],
   "source": [
    "mean_right = 4.33328"
   ]
  },
  {
   "cell_type": "code",
   "execution_count": 293,
   "metadata": {},
   "outputs": [],
   "source": [
    "diff = mean_right - y_submit.mean()"
   ]
  },
  {
   "cell_type": "code",
   "execution_count": 296,
   "metadata": {},
   "outputs": [
    {
     "data": {
      "text/plain": [
       "1.1641601897130118"
      ]
     },
     "execution_count": 296,
     "metadata": {},
     "output_type": "execute_result"
    }
   ],
   "source": [
    "diff"
   ]
  },
  {
   "cell_type": "code",
   "execution_count": 297,
   "metadata": {},
   "outputs": [],
   "source": [
    "ridge_test_pred_modif = y_submit + diff # You code here"
   ]
  },
  {
   "cell_type": "code",
   "execution_count": 298,
   "metadata": {},
   "outputs": [],
   "source": [
    "write_submission_file(ridge_test_pred_modif, \n",
    "                      os.path.join(PATH_TO_DATA,\n",
    "                                   'assignment6_medium_submission_with_hack.csv'))"
   ]
  },
  {
   "cell_type": "markdown",
   "metadata": {},
   "source": [
    "That's it for the assignment. Much more credits will be given to the winners in this competition, check [course roadmap](https://mlcourse.ai/roadmap). Do not spoil the assignment and the competition - don't share high-performing kernels (with MAE < 1.5).\n",
    "\n",
    "Some ideas for improvement:\n",
    "\n",
    "- Engineer good features, this is the key to success. Some simple features will be based on publication time, authors, content length and so on\n",
    "- You may not ignore HTML and extract some features from there\n",
    "- You'd better experiment with your validation scheme. You should see a correlation between your local improvements and LB score\n",
    "- Try TF-IDF, ngrams, Word2Vec and GloVe embeddings\n",
    "- Try various NLP techniques like stemming and lemmatization\n",
    "- Tune hyperparameters. In our example, we've left only 50k features and used C=1 as a regularization parameter, this can be changed\n",
    "- SGD and Vowpal Wabbit will learn much faster\n",
    "- Play around with blending and/or stacking. An intro is given in [this Kernel](https://www.kaggle.com/kashnitsky/ridge-and-lightgbm-simple-blending) by @yorko \n",
    "- In our course, we don't cover neural nets. But it's not obliged to use GRUs/LSTMs/whatever in this competition.\n",
    "\n",
    "Good luck!\n"
   ]
  },
  {
   "cell_type": "code",
   "execution_count": null,
   "metadata": {},
   "outputs": [],
   "source": []
  }
 ],
 "metadata": {
  "kernelspec": {
   "display_name": "Python 3.6.7 [odscourse]",
   "language": "python",
   "name": "odscourse"
  },
  "language_info": {
   "codemirror_mode": {
    "name": "ipython",
    "version": 3
   },
   "file_extension": ".py",
   "mimetype": "text/x-python",
   "name": "python",
   "nbconvert_exporter": "python",
   "pygments_lexer": "ipython3",
   "version": "3.6.7"
  }
 },
 "nbformat": 4,
 "nbformat_minor": 2
}
